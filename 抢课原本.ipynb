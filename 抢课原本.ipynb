{
 "cells": [
  {
   "cell_type": "code",
   "execution_count": 4,
   "id": "354dd941",
   "metadata": {},
   "outputs": [],
   "source": [
    "def ask_url(url,cookie):\n",
    "    '''\n",
    "    访问网页并返回html文件\n",
    "    '''\n",
    "    # 导入模块\n",
    "    import urllib.request\n",
    "    \n",
    "    headers = {\n",
    "        'Cookie': f'{cookie}'\n",
    "    }\n",
    "    \n",
    "    # 对url发起请求之前要使用urllib.request.Request()来对url请求对象定制\n",
    "    request = urllib.request.Request(url=url, headers=headers)\n",
    "    # 进行异常的捕捉\n",
    "    try:\n",
    "        response = urllib.request.urlopen(request)\n",
    "        html = response.read().decode(\"gbk\")\n",
    "        # print(html)\n",
    "    except urllib.error.URLError as e:\n",
    "        if hasattr(e, \"code\"):\n",
    "            print(e)  # hasattr()函数表示如果对象有该属性返回 True，否则返回 False。\n",
    "        if hasattr(e, \"reason\"):\n",
    "            print(e)\n",
    "    return html"
   ]
  },
  {
   "cell_type": "code",
   "execution_count": 3,
   "id": "9bf9f55f",
   "metadata": {},
   "outputs": [
    {
     "ename": "NameError",
     "evalue": "name 'ask_url' is not defined",
     "output_type": "error",
     "traceback": [
      "\u001b[1;31m---------------------------------------------------------------------------\u001b[0m",
      "\u001b[1;31mNameError\u001b[0m                                 Traceback (most recent call last)",
      "Input \u001b[1;32mIn [3]\u001b[0m, in \u001b[0;36m<cell line: 5>\u001b[1;34m()\u001b[0m\n\u001b[0;32m      2\u001b[0m cookie \u001b[38;5;241m=\u001b[39m \u001b[38;5;124m'\u001b[39m\u001b[38;5;124m'\u001b[39m\n\u001b[0;32m      4\u001b[0m url \u001b[38;5;241m=\u001b[39m \u001b[38;5;124m\"\u001b[39m\u001b[38;5;124mhttps://e.bitzh.edu.cn/jsxsd/xsxkkc/ggxxkxkOper?jx0404id=&xkzy=&trjf=\u001b[39m\u001b[38;5;124m\"\u001b[39m\n\u001b[1;32m----> 5\u001b[0m a \u001b[38;5;241m=\u001b[39m \u001b[43mask_url\u001b[49m(url,cookie)\n\u001b[0;32m      6\u001b[0m a\n",
      "\u001b[1;31mNameError\u001b[0m: name 'ask_url' is not defined"
     ]
    }
   ],
   "source": [
    "import json\n",
    "cookie = ''\n",
    "\n",
    "url = \"https://e.bitzh.edu.cn/jsxsd/xsxkkc/ggxxkxkOper?jx0404id=&xkzy=&trjf=\"\n",
    "a = ask_url(url,cookie)\n",
    "a"
   ]
  },
  {
   "cell_type": "code",
   "execution_count": 17,
   "id": "dd8f184b",
   "metadata": {},
   "outputs": [],
   "source": [
    "import json\n",
    "b=json.loads(a)"
   ]
  },
  {
   "cell_type": "code",
   "execution_count": 20,
   "id": "914201cc",
   "metadata": {},
   "outputs": [
    {
     "data": {
      "text/plain": [
       "True"
      ]
     },
     "execution_count": 20,
     "metadata": {},
     "output_type": "execute_result"
    }
   ],
   "source": [
    "b['message']=='选课失败：此课堂选课人数已满！'"
   ]
  },
  {
   "cell_type": "code",
   "execution_count": 7,
   "id": "64ee6366",
   "metadata": {},
   "outputs": [
    {
     "ename": "TypeError",
     "evalue": "ask_url() missing 1 required positional argument: 'cookie'",
     "output_type": "error",
     "traceback": [
      "\u001b[1;31m---------------------------------------------------------------------------\u001b[0m",
      "\u001b[1;31mTypeError\u001b[0m                                 Traceback (most recent call last)",
      "Input \u001b[1;32mIn [7]\u001b[0m, in \u001b[0;36m<cell line: 5>\u001b[1;34m()\u001b[0m\n\u001b[0;32m      4\u001b[0m c\u001b[38;5;241m=\u001b[39m\u001b[38;5;241m1\u001b[39m\n\u001b[0;32m      5\u001b[0m \u001b[38;5;28;01mwhile\u001b[39;00m c:\n\u001b[1;32m----> 6\u001b[0m     a \u001b[38;5;241m=\u001b[39m \u001b[43mask_url\u001b[49m\u001b[43m(\u001b[49m\u001b[43murl\u001b[49m\u001b[43m)\u001b[49m\n\u001b[0;32m      7\u001b[0m     b\u001b[38;5;241m=\u001b[39mjson\u001b[38;5;241m.\u001b[39mloads(a)\n\u001b[0;32m      8\u001b[0m     \u001b[38;5;28mprint\u001b[39m(b)\n",
      "\u001b[1;31mTypeError\u001b[0m: ask_url() missing 1 required positional argument: 'cookie'"
     ]
    }
   ],
   "source": [
    "import json\n",
    "import time\n",
    "url = \"https://e.bitzh.edu.cn/jsxsd/xsxkkc/ggxxkxkOper?jx0404id=&xkzy=&trjf=\"\n",
    "c=1\n",
    "while c:\n",
    "    a = ask_url(url)\n",
    "    b=json.loads(a)\n",
    "    print(b)\n",
    "    c=b['message']=='选课失败：此课堂选课人数已满！'\n",
    "    time.sleep(10)"
   ]
  },
  {
   "cell_type": "code",
   "execution_count": null,
   "id": "917164f8",
   "metadata": {},
   "outputs": [],
   "source": [
    "start_time1 = time.time()"
   ]
  },
  {
   "cell_type": "code",
   "execution_count": 2,
   "id": "63e102ae",
   "metadata": {
    "scrolled": false
   },
   "outputs": [
    {
     "name": "stdout",
     "output_type": "stream",
     "text": [
      "耗时 0.0\n"
     ]
    }
   ],
   "source": [
    "import urllib.request\n",
    "import time\n",
    "\n",
    "# 选课\n",
    "def get_class(id,cookie):\n",
    "    url = f\"https://e.bitzh.edu.cn/jsxsd/xsxkkc/ggxxkxkOper?jx0404id={id}&xkzy=&trjf=\"\n",
    "    # 导入模块\n",
    "    headers = {\n",
    "        'Cookie': f'{cookie}'\n",
    "    }\n",
    "    \n",
    "    # 对url发起请求之前要使用urllib.request.Request()来对url请求对象定制\n",
    "    request = urllib.request.Request(url=url, headers=headers)\n",
    "    # 进行异常的捕捉\n",
    "    try:\n",
    "        response = urllib.request.urlopen(request)\n",
    "        html = response.read().decode(\"utf8\")\n",
    "        # print(html)\n",
    "    except urllib.error.URLError as e:\n",
    "        if hasattr(e, \"code\"):\n",
    "            print(e)  # hasattr()函数表示如果对象有该属性返回 True，否则返回 False。\n",
    "        if hasattr(e, \"reason\"):\n",
    "            print(e)\n",
    "    return html\n",
    "\n",
    "# 退课\n",
    "def lose_class(id,cookie):\n",
    "    url = f\"https://e.bitzh.edu.cn/jsxsd/xsxkjg/xstkOper?jx0404id={id}\"\n",
    "    # 导入模块\n",
    "    headers = {\n",
    "        'Cookie': f'{cookie}'\n",
    "    }\n",
    "    \n",
    "    # 对url发起请求之前要使用urllib.request.Request()来对url请求对象定制\n",
    "    request = urllib.request.Request(url=url, headers=headers)\n",
    "    # 进行异常的捕捉\n",
    "    try:\n",
    "        response = urllib.request.urlopen(request)\n",
    "        html = response.read().decode(\"utf8\")\n",
    "        # print(html)\n",
    "    except urllib.error.URLError as e:\n",
    "        if hasattr(e, \"code\"):\n",
    "            print(e)  # hasattr()函数表示如果对象有该属性返回 True，否则返回 False。\n",
    "        if hasattr(e, \"reason\"):\n",
    "            print(e)\n",
    "    return html\n",
    "\n",
    "\n",
    "'''以上是定义函数，以下是运行'''\n",
    "\n",
    "# cookie\n",
    "cookie = ''\n",
    "\n",
    "\n",
    "\n",
    "# 记录时间\n",
    "start_time = time.time()\n",
    "\n",
    "\n",
    "\n",
    "\n",
    "# # 单门抢课\n",
    "# classid = \n",
    "\n",
    "\n",
    "# a = 0\n",
    "# while True:\n",
    "#     a=a+1\n",
    "    \n",
    "#     get = get_class(classid,cookie)\n",
    "#     print(a, get, \"当前时长\", time.time()-start_time)\n",
    "#     if '{\"success\":true}' in get:\n",
    "#         break\n",
    "#     time.sleep(1)\n",
    "\n",
    "\n",
    "\n",
    "\n",
    "\n",
    "\n",
    "\n",
    "# 多门\n",
    "class_id_list = [\n",
    "\n",
    "                ]\n",
    "a = 0\n",
    "while class_id_list:\n",
    "    a = a+1\n",
    "    class_remove = []\n",
    "    for class_id in class_id_list:\n",
    "        get = get_class(class_id,cookie)\n",
    "        print(a, class_id, get)\n",
    "        if '{\"success\":true}' in get:\n",
    "            class_remove.append(class_id)\n",
    "    \n",
    "    for class_id in class_remove:\n",
    "        class_id_list.remove(class_id)\n",
    "    print(a, \"次已完成\", \"当前时长\", time.time()-start_time)\n",
    "    time.sleep(1)\n",
    "\n",
    "\n",
    "\n",
    "\n",
    "\n",
    "print('耗时',time.time()-start_time)"
   ]
  },
  {
   "cell_type": "code",
   "execution_count": null,
   "id": "14263c40",
   "metadata": {},
   "outputs": [],
   "source": []
  },
  {
   "cell_type": "code",
   "execution_count": null,
   "id": "feb25f2b",
   "metadata": {},
   "outputs": [],
   "source": []
  },
  {
   "cell_type": "code",
   "execution_count": null,
   "id": "262b832d",
   "metadata": {},
   "outputs": [],
   "source": []
  }
 ],
 "metadata": {
  "kernelspec": {
   "display_name": "Python 3 (ipykernel)",
   "language": "python",
   "name": "python3"
  },
  "language_info": {
   "codemirror_mode": {
    "name": "ipython",
    "version": 3
   },
   "file_extension": ".py",
   "mimetype": "text/x-python",
   "name": "python",
   "nbconvert_exporter": "python",
   "pygments_lexer": "ipython3",
   "version": "3.9.12"
  }
 },
 "nbformat": 4,
 "nbformat_minor": 5
}
