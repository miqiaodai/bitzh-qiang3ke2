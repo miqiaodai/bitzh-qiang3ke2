{
 "cells": [
  {
   "cell_type": "code",
   "execution_count": 7,
   "id": "63e102ae",
   "metadata": {
    "scrolled": true
   },
   "outputs": [],
   "source": [
    "import urllib.request\n",
    "import time\n",
    "from datetime import datetime  \n",
    "\n",
    "# 选课\n",
    "def get_class(id,cookie):\n",
    "    url = f\"https://e.bitzh.edu.cn/jsxsd/xsxkkc/ggxxkxkOper?jx0404id={id}&xkzy=&trjf=\"\n",
    "    # 导入模块\n",
    "    headers = {\n",
    "        'Cookie': f'{cookie}'\n",
    "    }\n",
    "    \n",
    "    # 对url发起请求之前要使用urllib.request.Request()来对url请求对象定制\n",
    "    request = urllib.request.Request(url=url, headers=headers)\n",
    "    # 进行异常的捕捉\n",
    "    try:\n",
    "        response = urllib.request.urlopen(request)\n",
    "        html = response.read().decode(\"utf8\")\n",
    "        # print(html)\n",
    "    except urllib.error.URLError as e:\n",
    "        if hasattr(e, \"code\"):\n",
    "            print(e)  # hasattr()函数表示如果对象有该属性返回 True，否则返回 False。\n",
    "        if hasattr(e, \"reason\"):\n",
    "            print(e)\n",
    "    return html\n",
    "\n",
    "# 退课\n",
    "def lose_class(id,cookie):\n",
    "    url = f\"https://e.bitzh.edu.cn/jsxsd/xsxkjg/xstkOper?jx0404id={id}\"\n",
    "    # 导入模块\n",
    "    headers = {\n",
    "        'Cookie': f'{cookie}'\n",
    "    }\n",
    "    \n",
    "    # 对url发起请求之前要使用urllib.request.Request()来对url请求对象定制\n",
    "    request = urllib.request.Request(url=url, headers=headers)\n",
    "    # 进行异常的捕捉\n",
    "    try:\n",
    "        response = urllib.request.urlopen(request)\n",
    "        html = response.read().decode(\"utf8\")\n",
    "        # print(html)\n",
    "    except urllib.error.URLError as e:\n",
    "        if hasattr(e, \"code\"):\n",
    "            print(e)  # hasattr()函数表示如果对象有该属性返回 True，否则返回 False。\n",
    "        if hasattr(e, \"reason\"):\n",
    "            print(e)\n",
    "    return html\n",
    "\n",
    "def now():\n",
    "    '''\n",
    "    当前时间\n",
    "    '''\n",
    "    return datetime.now().strftime(\"%Y-%m-%d %H:%M:%S.%f\")\n",
    "# '''以上是定义函数，以下是运行'''\n",
    "# '''出现编码错误请检查cookie'''\n"
   ]
  },
  {
   "cell_type": "code",
   "execution_count": 8,
   "id": "e90b240a",
   "metadata": {},
   "outputs": [],
   "source": [
    "# cookie\n",
    "cookie = ''"
   ]
  },
  {
   "cell_type": "code",
   "execution_count": 5,
   "id": "19d34d35",
   "metadata": {},
   "outputs": [],
   "source": [
    "import ssl\n",
    "ssl._create_default_https_context = ssl._create_unverified_context"
   ]
  },
  {
   "cell_type": "markdown",
   "id": "4bc35edd",
   "metadata": {},
   "source": [
    "# 单门抢课"
   ]
  },
  {
   "cell_type": "code",
   "execution_count": 23,
   "id": "19b6526a",
   "metadata": {},
   "outputs": [],
   "source": [
    "classid = "
   ]
  },
  {
   "cell_type": "markdown",
   "id": "51b6b65b",
   "metadata": {},
   "source": [
    "# 多门抢课"
   ]
  },
  {
   "cell_type": "code",
   "execution_count": 1,
   "id": "118bb213",
   "metadata": {
    "scrolled": true
   },
   "outputs": [
    {
     "ename": "NameError",
     "evalue": "name 'time' is not defined",
     "output_type": "error",
     "traceback": [
      "\u001b[1;31m---------------------------------------------------------------------------\u001b[0m",
      "\u001b[1;31mNameError\u001b[0m                                 Traceback (most recent call last)",
      "Input \u001b[1;32mIn [1]\u001b[0m, in \u001b[0;36m<cell line: 2>\u001b[1;34m()\u001b[0m\n\u001b[0;32m      1\u001b[0m a \u001b[38;5;241m=\u001b[39m \u001b[38;5;241m0\u001b[39m\n\u001b[1;32m----> 2\u001b[0m start_time\u001b[38;5;241m=\u001b[39m\u001b[43mtime\u001b[49m\u001b[38;5;241m.\u001b[39mtime()\n\u001b[0;32m      3\u001b[0m \u001b[38;5;28;01mwhile\u001b[39;00m \u001b[38;5;28;01mTrue\u001b[39;00m:\n\u001b[0;32m      4\u001b[0m     a\u001b[38;5;241m=\u001b[39ma\u001b[38;5;241m+\u001b[39m\u001b[38;5;241m1\u001b[39m\n",
      "\u001b[1;31mNameError\u001b[0m: name 'time' is not defined"
     ]
    }
   ],
   "source": [
    "a = 0\n",
    "start_time=time.time()\n",
    "while True:\n",
    "    a=a+1\n",
    "    \n",
    "    get = get_class(classid,cookie)\n",
    "#     print(a, get, \"当前时长\", time.time()-start_time)\n",
    "    print(f'次数{a}\\n{get}当前时长{time.time()-start_time},当前时间{now()}\\n')\n",
    "    if '{\"success\":true}' in get:\n",
    "        break\n",
    "    time.sleep(1)"
   ]
  },
  {
   "cell_type": "code",
   "execution_count": null,
   "id": "2832df1d",
   "metadata": {},
   "outputs": [],
   "source": [
    "# 多门\n",
    "class_id_list = []\n"
   ]
  },
  {
   "cell_type": "code",
   "execution_count": 2,
   "id": "cf1c3aa0",
   "metadata": {},
   "outputs": [
    {
     "ename": "NameError",
     "evalue": "name 'time' is not defined",
     "output_type": "error",
     "traceback": [
      "\u001b[1;31m---------------------------------------------------------------------------\u001b[0m",
      "\u001b[1;31mNameError\u001b[0m                                 Traceback (most recent call last)",
      "Input \u001b[1;32mIn [2]\u001b[0m, in \u001b[0;36m<cell line: 2>\u001b[1;34m()\u001b[0m\n\u001b[0;32m      1\u001b[0m a \u001b[38;5;241m=\u001b[39m \u001b[38;5;241m0\u001b[39m\n\u001b[1;32m----> 2\u001b[0m start_time \u001b[38;5;241m=\u001b[39m \u001b[43mtime\u001b[49m\u001b[38;5;241m.\u001b[39mtime()\n\u001b[0;32m      3\u001b[0m \u001b[38;5;28;01mwhile\u001b[39;00m class_id_list:\n\u001b[0;32m      4\u001b[0m     a \u001b[38;5;241m=\u001b[39m a\u001b[38;5;241m+\u001b[39m\u001b[38;5;241m1\u001b[39m\n",
      "\u001b[1;31mNameError\u001b[0m: name 'time' is not defined"
     ]
    }
   ],
   "source": [
    "a = 0\n",
    "start_time = time.time()\n",
    "while class_id_list:\n",
    "    a = a+1\n",
    "    class_remove = []\n",
    "    \n",
    "    print(now())\n",
    "    for class_id in class_id_list:\n",
    "        get = get_class(class_id,cookie)\n",
    "        print(a, class_id, get)\n",
    "        \n",
    "        if '{\"success\":true}' in get:\n",
    "            class_remove.append(class_id)\n",
    "        time.sleep(0.1)\n",
    "    \n",
    "    # 删已选课程\n",
    "    for class_id in class_remove:\n",
    "        class_id_list.remove(class_id)\n",
    "    \n",
    "    \n",
    "    print(a, \"次已完成\", \"当前时长\", time.time()-start_time)\n",
    "    time.sleep(1)\n",
    "print('耗时',time.time()-start_time)"
   ]
  },
  {
   "cell_type": "code",
   "execution_count": null,
   "id": "7c4b1eb6",
   "metadata": {},
   "outputs": [],
   "source": [
    "# # 课程换号\n",
    "# classid = \n",
    "# cookie1 = \n",
    "# cookie2 = \n",
    "\n",
    "# print(lose_class(classid, cookie1))\n",
    "# a = 1\n",
    "# while a:\n",
    "#     get = get_class(classid, cookie2)\n",
    "#     print(get)\n",
    "#     if '{\"success\":true}' in get:\n",
    "#         a = 0"
   ]
  },
  {
   "cell_type": "code",
   "execution_count": 8,
   "id": "f1133f74",
   "metadata": {},
   "outputs": [],
   "source": [
    "import ssl\n",
    "ssl._create_default_https_context = ssl._create_unverified_context"
   ]
  },
  {
   "cell_type": "code",
   "execution_count": 28,
   "id": "3ff2432a",
   "metadata": {},
   "outputs": [
    {
     "name": "stdout",
     "output_type": "stream",
     "text": [
      "2024-06-15 21:08:50.021418\n"
     ]
    }
   ],
   "source": [
    "print(datetime.now().strftime(\"%Y-%m-%d %H:%M:%S.%f\"))"
   ]
  },
  {
   "cell_type": "code",
   "execution_count": null,
   "id": "7c613b18",
   "metadata": {},
   "outputs": [],
   "source": []
  },
  {
   "cell_type": "code",
   "execution_count": null,
   "id": "38272558",
   "metadata": {},
   "outputs": [],
   "source": []
  }
 ],
 "metadata": {
  "kernelspec": {
   "display_name": "Python 3 (ipykernel)",
   "language": "python",
   "name": "python3"
  },
  "language_info": {
   "codemirror_mode": {
    "name": "ipython",
    "version": 3
   },
   "file_extension": ".py",
   "mimetype": "text/x-python",
   "name": "python",
   "nbconvert_exporter": "python",
   "pygments_lexer": "ipython3",
   "version": "3.9.12"
  }
 },
 "nbformat": 4,
 "nbformat_minor": 5
}
